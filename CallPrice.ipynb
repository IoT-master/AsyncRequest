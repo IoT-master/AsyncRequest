{
 "cells": [
  {
   "cell_type": "code",
   "execution_count": 1,
   "metadata": {},
   "outputs": [
    {
     "data": {
      "text/plain": [
       "<Figure size 432x288 with 0 Axes>"
      ]
     },
     "metadata": {},
     "output_type": "display_data"
    }
   ],
   "source": [
    "import pandas as pd\n",
    "import matplotlib.pyplot as plt\n",
    "%matplotlib inline\n",
    "df = pd.read_json('./MSFT.json')\n",
    "plt.style.use('fivethirtyeight')\n",
    "plt.tight_layout()"
   ]
  },
  {
   "cell_type": "code",
   "execution_count": 2,
   "metadata": {},
   "outputs": [
    {
     "data": {
      "text/html": [
       "<div>\n",
       "<style scoped>\n",
       "    .dataframe tbody tr th:only-of-type {\n",
       "        vertical-align: middle;\n",
       "    }\n",
       "\n",
       "    .dataframe tbody tr th {\n",
       "        vertical-align: top;\n",
       "    }\n",
       "\n",
       "    .dataframe thead th {\n",
       "        text-align: right;\n",
       "    }\n",
       "</style>\n",
       "<table border=\"1\" class=\"dataframe\">\n",
       "  <thead>\n",
       "    <tr style=\"text-align: right;\">\n",
       "      <th></th>\n",
       "      <th>adjusted_mark_price</th>\n",
       "      <th>ask_price</th>\n",
       "      <th>ask_size</th>\n",
       "      <th>bid_price</th>\n",
       "      <th>bid_size</th>\n",
       "      <th>break_even_price</th>\n",
       "      <th>high_price</th>\n",
       "      <th>instrument</th>\n",
       "      <th>last_trade_price</th>\n",
       "      <th>last_trade_size</th>\n",
       "      <th>...</th>\n",
       "      <th>id</th>\n",
       "      <th>issue_date</th>\n",
       "      <th>min_ticks</th>\n",
       "      <th>rhs_tradability</th>\n",
       "      <th>state</th>\n",
       "      <th>strike_price</th>\n",
       "      <th>tradability</th>\n",
       "      <th>type</th>\n",
       "      <th>updated_at</th>\n",
       "      <th>url</th>\n",
       "    </tr>\n",
       "  </thead>\n",
       "  <tbody>\n",
       "    <tr>\n",
       "      <td>0</td>\n",
       "      <td>2.93</td>\n",
       "      <td>3.20</td>\n",
       "      <td>38</td>\n",
       "      <td>2.65</td>\n",
       "      <td>36</td>\n",
       "      <td>182.93</td>\n",
       "      <td>3.07</td>\n",
       "      <td>https://api.robinhood.com/options/instruments/...</td>\n",
       "      <td>2.90</td>\n",
       "      <td>1.0</td>\n",
       "      <td>...</td>\n",
       "      <td>deb0639f-0ec9-4229-92f8-5a60e4435b52</td>\n",
       "      <td>1987-03-12</td>\n",
       "      <td>{'above_tick': '0.05', 'below_tick': '0.01', '...</td>\n",
       "      <td>untradable</td>\n",
       "      <td>active</td>\n",
       "      <td>180.0</td>\n",
       "      <td>tradable</td>\n",
       "      <td>call</td>\n",
       "      <td>2020-04-02 03:17:25.755767+00:00</td>\n",
       "      <td>https://api.robinhood.com/options/instruments/...</td>\n",
       "    </tr>\n",
       "    <tr>\n",
       "      <td>1</td>\n",
       "      <td>16.48</td>\n",
       "      <td>17.90</td>\n",
       "      <td>47</td>\n",
       "      <td>15.05</td>\n",
       "      <td>30</td>\n",
       "      <td>161.02</td>\n",
       "      <td>NaN</td>\n",
       "      <td>https://api.robinhood.com/options/instruments/...</td>\n",
       "      <td>18.42</td>\n",
       "      <td>1.0</td>\n",
       "      <td>...</td>\n",
       "      <td>65753d5b-86b4-40d1-8b0f-13a33e517c02</td>\n",
       "      <td>1987-03-12</td>\n",
       "      <td>{'above_tick': '0.05', 'below_tick': '0.01', '...</td>\n",
       "      <td>untradable</td>\n",
       "      <td>active</td>\n",
       "      <td>177.5</td>\n",
       "      <td>tradable</td>\n",
       "      <td>put</td>\n",
       "      <td>2020-04-02 03:17:25.755713+00:00</td>\n",
       "      <td>https://api.robinhood.com/options/instruments/...</td>\n",
       "    </tr>\n",
       "    <tr>\n",
       "      <td>2</td>\n",
       "      <td>6.40</td>\n",
       "      <td>7.35</td>\n",
       "      <td>40</td>\n",
       "      <td>5.45</td>\n",
       "      <td>51</td>\n",
       "      <td>176.40</td>\n",
       "      <td>7.00</td>\n",
       "      <td>https://api.robinhood.com/options/instruments/...</td>\n",
       "      <td>7.00</td>\n",
       "      <td>1.0</td>\n",
       "      <td>...</td>\n",
       "      <td>079cb79c-fec1-4ff7-9b52-1795c1d0de36</td>\n",
       "      <td>1987-03-12</td>\n",
       "      <td>{'above_tick': '0.05', 'below_tick': '0.01', '...</td>\n",
       "      <td>untradable</td>\n",
       "      <td>active</td>\n",
       "      <td>170.0</td>\n",
       "      <td>tradable</td>\n",
       "      <td>call</td>\n",
       "      <td>2020-04-02 03:17:25.755647+00:00</td>\n",
       "      <td>https://api.robinhood.com/options/instruments/...</td>\n",
       "    </tr>\n",
       "    <tr>\n",
       "      <td>3</td>\n",
       "      <td>24.78</td>\n",
       "      <td>26.55</td>\n",
       "      <td>30</td>\n",
       "      <td>23.00</td>\n",
       "      <td>56</td>\n",
       "      <td>167.78</td>\n",
       "      <td>NaN</td>\n",
       "      <td>https://api.robinhood.com/options/instruments/...</td>\n",
       "      <td>NaN</td>\n",
       "      <td>NaN</td>\n",
       "      <td>...</td>\n",
       "      <td>07bd1a2a-85b8-4741-840b-93763375f0d6</td>\n",
       "      <td>1987-03-12</td>\n",
       "      <td>{'above_tick': '0.05', 'below_tick': '0.01', '...</td>\n",
       "      <td>untradable</td>\n",
       "      <td>active</td>\n",
       "      <td>143.0</td>\n",
       "      <td>tradable</td>\n",
       "      <td>call</td>\n",
       "      <td>2020-04-02 03:17:25.755595+00:00</td>\n",
       "      <td>https://api.robinhood.com/options/instruments/...</td>\n",
       "    </tr>\n",
       "    <tr>\n",
       "      <td>4</td>\n",
       "      <td>3.06</td>\n",
       "      <td>3.45</td>\n",
       "      <td>32</td>\n",
       "      <td>2.66</td>\n",
       "      <td>35</td>\n",
       "      <td>138.94</td>\n",
       "      <td>2.50</td>\n",
       "      <td>https://api.robinhood.com/options/instruments/...</td>\n",
       "      <td>2.50</td>\n",
       "      <td>1.0</td>\n",
       "      <td>...</td>\n",
       "      <td>7e8c9f81-727f-421d-97bb-37062553c8a4</td>\n",
       "      <td>1987-03-12</td>\n",
       "      <td>{'above_tick': '0.05', 'below_tick': '0.01', '...</td>\n",
       "      <td>untradable</td>\n",
       "      <td>active</td>\n",
       "      <td>142.0</td>\n",
       "      <td>tradable</td>\n",
       "      <td>put</td>\n",
       "      <td>2020-04-02 03:17:25.755544+00:00</td>\n",
       "      <td>https://api.robinhood.com/options/instruments/...</td>\n",
       "    </tr>\n",
       "  </tbody>\n",
       "</table>\n",
       "<p>5 rows × 42 columns</p>\n",
       "</div>"
      ],
      "text/plain": [
       "   adjusted_mark_price  ask_price  ask_size  bid_price  bid_size  \\\n",
       "0                 2.93       3.20        38       2.65        36   \n",
       "1                16.48      17.90        47      15.05        30   \n",
       "2                 6.40       7.35        40       5.45        51   \n",
       "3                24.78      26.55        30      23.00        56   \n",
       "4                 3.06       3.45        32       2.66        35   \n",
       "\n",
       "   break_even_price  high_price  \\\n",
       "0            182.93        3.07   \n",
       "1            161.02         NaN   \n",
       "2            176.40        7.00   \n",
       "3            167.78         NaN   \n",
       "4            138.94        2.50   \n",
       "\n",
       "                                          instrument  last_trade_price  \\\n",
       "0  https://api.robinhood.com/options/instruments/...              2.90   \n",
       "1  https://api.robinhood.com/options/instruments/...             18.42   \n",
       "2  https://api.robinhood.com/options/instruments/...              7.00   \n",
       "3  https://api.robinhood.com/options/instruments/...               NaN   \n",
       "4  https://api.robinhood.com/options/instruments/...              2.50   \n",
       "\n",
       "   last_trade_size  ...                                    id  issue_date  \\\n",
       "0              1.0  ...  deb0639f-0ec9-4229-92f8-5a60e4435b52  1987-03-12   \n",
       "1              1.0  ...  65753d5b-86b4-40d1-8b0f-13a33e517c02  1987-03-12   \n",
       "2              1.0  ...  079cb79c-fec1-4ff7-9b52-1795c1d0de36  1987-03-12   \n",
       "3              NaN  ...  07bd1a2a-85b8-4741-840b-93763375f0d6  1987-03-12   \n",
       "4              1.0  ...  7e8c9f81-727f-421d-97bb-37062553c8a4  1987-03-12   \n",
       "\n",
       "                                           min_ticks rhs_tradability   state  \\\n",
       "0  {'above_tick': '0.05', 'below_tick': '0.01', '...      untradable  active   \n",
       "1  {'above_tick': '0.05', 'below_tick': '0.01', '...      untradable  active   \n",
       "2  {'above_tick': '0.05', 'below_tick': '0.01', '...      untradable  active   \n",
       "3  {'above_tick': '0.05', 'below_tick': '0.01', '...      untradable  active   \n",
       "4  {'above_tick': '0.05', 'below_tick': '0.01', '...      untradable  active   \n",
       "\n",
       "   strike_price  tradability  type                       updated_at  \\\n",
       "0         180.0     tradable  call 2020-04-02 03:17:25.755767+00:00   \n",
       "1         177.5     tradable   put 2020-04-02 03:17:25.755713+00:00   \n",
       "2         170.0     tradable  call 2020-04-02 03:17:25.755647+00:00   \n",
       "3         143.0     tradable  call 2020-04-02 03:17:25.755595+00:00   \n",
       "4         142.0     tradable   put 2020-04-02 03:17:25.755544+00:00   \n",
       "\n",
       "                                                 url  \n",
       "0  https://api.robinhood.com/options/instruments/...  \n",
       "1  https://api.robinhood.com/options/instruments/...  \n",
       "2  https://api.robinhood.com/options/instruments/...  \n",
       "3  https://api.robinhood.com/options/instruments/...  \n",
       "4  https://api.robinhood.com/options/instruments/...  \n",
       "\n",
       "[5 rows x 42 columns]"
      ]
     },
     "execution_count": 2,
     "metadata": {},
     "output_type": "execute_result"
    }
   ],
   "source": [
    "df.head()"
   ]
  },
  {
   "cell_type": "code",
   "execution_count": 3,
   "metadata": {},
   "outputs": [],
   "source": [
    "dfcall = df[df['type'] == 'call']"
   ]
  },
  {
   "cell_type": "code",
   "execution_count": 4,
   "metadata": {},
   "outputs": [
    {
     "data": {
      "text/plain": [
       "array(['2020-05-22', '2020-04-17', '2020-05-08', '2020-04-24',\n",
       "       '2020-05-01', '2022-09-16', '2022-06-17', '2021-03-19',\n",
       "       '2020-09-18'], dtype=object)"
      ]
     },
     "execution_count": 4,
     "metadata": {},
     "output_type": "execute_result"
    }
   ],
   "source": [
    "dfcall['expiration_date'].unique()"
   ]
  },
  {
   "cell_type": "code",
   "execution_count": 5,
   "metadata": {},
   "outputs": [],
   "source": [
    "# dfcall['expiration_date'] = pd.to_datetime(dfcall['expiration_date'], format='%Y-%m-%d')"
   ]
  },
  {
   "cell_type": "code",
   "execution_count": 25,
   "metadata": {},
   "outputs": [
    {
     "data": {
      "text/plain": [
       "array(['2020-05-22T00:00:00.000000000', '2020-04-17T00:00:00.000000000',\n",
       "       '2020-05-08T00:00:00.000000000', '2020-04-24T00:00:00.000000000',\n",
       "       '2020-05-01T00:00:00.000000000', '2022-09-16T00:00:00.000000000',\n",
       "       '2022-06-17T00:00:00.000000000', '2021-03-19T00:00:00.000000000',\n",
       "       '2020-09-18T00:00:00.000000000'], dtype='datetime64[ns]')"
      ]
     },
     "execution_count": 25,
     "metadata": {},
     "output_type": "execute_result"
    }
   ],
   "source": [
    "dfcall['expiration_date'].unique()"
   ]
  },
  {
   "cell_type": "code",
   "execution_count": 17,
   "metadata": {},
   "outputs": [],
   "source": [
    "dfcall.iloc[:]['expiration_date'] = dfcall['expiration_date'].apply(lambda x: pd.to_datetime(x, format='%Y-%m-%d'));"
   ]
  },
  {
   "cell_type": "code",
   "execution_count": 20,
   "metadata": {},
   "outputs": [
    {
     "data": {
      "text/plain": [
       "array(['2020-05-22T00:00:00.000000000', '2020-04-17T00:00:00.000000000',\n",
       "       '2020-05-08T00:00:00.000000000', '2020-04-24T00:00:00.000000000',\n",
       "       '2020-05-01T00:00:00.000000000', '2022-09-16T00:00:00.000000000',\n",
       "       '2022-06-17T00:00:00.000000000', '2021-03-19T00:00:00.000000000',\n",
       "       '2020-09-18T00:00:00.000000000'], dtype='datetime64[ns]')"
      ]
     },
     "execution_count": 20,
     "metadata": {},
     "output_type": "execute_result"
    }
   ],
   "source": [
    "dfcall['expiration_date'].unique()"
   ]
  },
  {
   "cell_type": "code",
   "execution_count": 32,
   "metadata": {},
   "outputs": [
    {
     "data": {
      "text/plain": [
       "<matplotlib.axes._subplots.AxesSubplot at 0x119c7ad90>"
      ]
     },
     "execution_count": 32,
     "metadata": {},
     "output_type": "execute_result"
    },
    {
     "data": {
      "image/png": "[encoded data removed]",
      "text/plain": [
       "<Figure size 864x360 with 1 Axes>"
      ]
     },
     "metadata": {
      "needs_background": "light"
     },
     "output_type": "display_data"
    }
   ],
   "source": [
    "dfcall[dfcall['expiration_date'] == dfcall['expiration_date'].unique()[0]].plot.scatter('strike_price', 'adjusted_mark_price', figsize=(12,5))"
   ]
  },
  {
   "cell_type": "code",
   "execution_count": 76,
   "metadata": {},
   "outputs": [],
   "source": [
    "m = 6\n",
    "n = 61\n",
    "S0 = 70\n",
    "S1 = 130\n",
    "K = 100\n",
    "r = 0.12\n",
    "T = 1.0\n",
    "sigma = 0.10\n",
    "\n",
    "import scipy\n",
    "from scipy.stats import norm\n",
    "time = scipy.linspace(T,0.0,m)\n",
    "S = scipy.linspace ( S0 , S1 , n )\n",
    "logSoverK = scipy . log ( S / K )\n",
    "n12 = (( r + sigma **2/2) *( T - time ) )\n",
    "n22 = (( r - sigma **2/2) *( T - time ) )\n",
    "numerd1 = logSoverK [ scipy.newaxis ,:] + n12 [: , scipy.newaxis ]\n",
    "numerd2 = logSoverK [ scipy.newaxis ,:] + n22 [: , scipy.newaxis ]\n",
    "d1 = numerd1 //( sigma * scipy.sqrt(T - time ) [: , scipy.newaxis ])\n",
    "d2 = numerd2 //( sigma * scipy.sqrt(T - time ) [: , scipy.newaxis ])\n",
    "\n",
    "\n",
    "part1 = S [ scipy.newaxis ] * norm . cdf ( d1 )\n",
    "part2 = norm . cdf ( d2 ) * K * scipy . exp ( - r *( T - time ) ) [: , scipy.newaxis ]\n",
    "VC = part1 - part2\n",
    "scipy.savetxt('solution.dat', scipy.column_stack((scipy.transpose(S), scipy.transpose(VC))),fmt=('%4.3f'))"
   ]
  },
  {
   "cell_type": "code",
   "execution_count": 86,
   "metadata": {},
   "outputs": [
    {
     "data": {
      "image/png": "[encoded data removed]",
      "text/plain": [
       "<Figure size 432x288 with 1 Axes>"
      ]
     },
     "metadata": {
      "needs_background": "light"
     },
     "output_type": "display_data"
    }
   ],
   "source": [
    "plt.plot(scipy.transpose(VC)[0]);"
   ]
  },
  {
   "cell_type": "code",
   "execution_count": 87,
   "metadata": {},
   "outputs": [
    {
     "data": {
      "image/png": "[encoded data removed]",
      "text/plain": [
       "<Figure size 432x288 with 1 Axes>"
      ]
     },
     "metadata": {
      "needs_background": "light"
     },
     "output_type": "display_data"
    }
   ],
   "source": [
    "plt.plot(scipy.transpose(VC)[1]);"
   ]
  },
  {
   "cell_type": "code",
   "execution_count": 88,
   "metadata": {},
   "outputs": [
    {
     "data": {
      "image/png": "[encoded data removed]",
      "text/plain": [
       "<Figure size 432x288 with 1 Axes>"
      ]
     },
     "metadata": {
      "needs_background": "light"
     },
     "output_type": "display_data"
    }
   ],
   "source": [
    "plt.plot(scipy.transpose(VC)[2]);"
   ]
  },
  {
   "cell_type": "code",
   "execution_count": 89,
   "metadata": {},
   "outputs": [
    {
     "data": {
      "image/png": "[encoded data removed]",
      "text/plain": [
       "<Figure size 432x288 with 1 Axes>"
      ]
     },
     "metadata": {
      "needs_background": "light"
     },
     "output_type": "display_data"
    }
   ],
   "source": [
    "plt.plot(scipy.transpose(VC)[4]);"
   ]
  },
  {
   "cell_type": "code",
   "execution_count": 90,
   "metadata": {},
   "outputs": [
    {
     "data": {
      "image/png": "[encoded data removed]",
      "text/plain": [
       "<Figure size 432x288 with 1 Axes>"
      ]
     },
     "metadata": {
      "needs_background": "light"
     },
     "output_type": "display_data"
    }
   ],
   "source": [
    "plt.plot(scipy.transpose(VC)[5]);"
   ]
  },
  {
   "cell_type": "code",
   "execution_count": null,
   "metadata": {},
   "outputs": [],
   "source": []
  }
 ],
 "metadata": {
  "kernelspec": {
   "display_name": "Python 3",
   "language": "python",
   "name": "python3"
  },
  "language_info": {
   "codemirror_mode": {
    "name": "ipython",
    "version": 3
   },
   "file_extension": ".py",
   "mimetype": "text/x-python",
   "name": "python",
   "nbconvert_exporter": "python",
   "pygments_lexer": "ipython3",
   "version": "3.7.4"
  }
 },
 "nbformat": 4,
 "nbformat_minor": 2
}
