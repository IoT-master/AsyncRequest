{
 "cells": [
  {
   "cell_type": "code",
   "execution_count": 1,
   "metadata": {},
   "outputs": [
    {
     "data": {
      "text/plain": [
       "<Figure size 432x288 with 0 Axes>"
      ]
     },
     "metadata": {},
     "output_type": "display_data"
    }
   ],
   "source": [
    "import pandas as pd\n",
    "import matplotlib.pyplot as plt\n",
    "%matplotlib inline\n",
    "df = pd.read_json('./MSFT.json')\n",
    "plt.style.use('fivethirtyeight')\n",
    "plt.tight_layout()"
   ]
  },
  {
   "cell_type": "code",
   "execution_count": 2,
   "metadata": {},
   "outputs": [
    {
     "name": "stderr",
     "output_type": "stream",
     "text": [
      "/Users/senhmo/opt/anaconda3/lib/python3.7/site-packages/pandas/plotting/_matplotlib/core.py:420: FutureWarning: Converting timezone-aware DatetimeArray to timezone-naive ndarray with 'datetime64[ns]' dtype. In the future, this will return an ndarray with 'object' dtype where each element is a 'pandas.Timestamp' with the correct 'tz'.\n",
      "\tTo accept the future behavior, pass 'dtype=object'.\n",
      "\tTo keep the old behavior, pass 'dtype=\"datetime64[ns]\"'.\n",
      "  numeric_data[col] = np.asarray(numeric_data[col])\n"
     ]
    },
    {
     "data": {
      "text/plain": [
       "<matplotlib.axes._subplots.AxesSubplot at 0x1147e0250>"
      ]
     },
     "execution_count": 2,
     "metadata": {},
     "output_type": "execute_result"
    },
    {
     "data": {
      "image/png": "[encoded data removed]",
      "text/plain": [
       "<Figure size 1440x360 with 1 Axes>"
      ]
     },
     "metadata": {
      "needs_background": "light"
     },
     "output_type": "display_data"
    }
   ],
   "source": [
    "df.plot.scatter('strike_price', 'implied_volatility', figsize=(20,5))"
   ]
  },
  {
   "cell_type": "code",
   "execution_count": 3,
   "metadata": {},
   "outputs": [
    {
     "data": {
      "text/plain": [
       "<matplotlib.axes._subplots.AxesSubplot at 0x1147fa410>"
      ]
     },
     "execution_count": 3,
     "metadata": {},
     "output_type": "execute_result"
    },
    {
     "data": {
      "image/png": "[encoded data removed]",
      "text/plain": [
       "<Figure size 1440x360 with 1 Axes>"
      ]
     },
     "metadata": {
      "needs_background": "light"
     },
     "output_type": "display_data"
    }
   ],
   "source": [
    "df.plot.scatter('strike_price', 'chance_of_profit_long', figsize=(20,5))"
   ]
  },
  {
   "cell_type": "code",
   "execution_count": 4,
   "metadata": {},
   "outputs": [],
   "source": [
    "df['product'] = df.apply(lambda row: (row['chance_of_profit_short']/row['implied_volatility']), axis=1)"
   ]
  },
  {
   "cell_type": "code",
   "execution_count": 5,
   "metadata": {},
   "outputs": [],
   "source": [
    "dfcall = df[df['type'] == 'call']\n",
    "chance_profit = dfcall['chance_of_profit_long'].describe()['75%']"
   ]
  },
  {
   "cell_type": "code",
   "execution_count": 6,
   "metadata": {},
   "outputs": [],
   "source": [
    "chance_profit_low_iv = dfcall[dfcall['chance_of_profit_long'] > chance_profit]['implied_volatility'].describe()['25%']"
   ]
  },
  {
   "cell_type": "code",
   "execution_count": 7,
   "metadata": {},
   "outputs": [],
   "source": [
    "max_profit = dfcall[(dfcall['chance_of_profit_long'] > chance_profit) & (dfcall['implied_volatility'] < chance_profit_low_iv)]['adjusted_mark_price'].max()"
   ]
  },
  {
   "cell_type": "code",
   "execution_count": 8,
   "metadata": {},
   "outputs": [
    {
     "data": {
      "text/html": [
       "<div>\n",
       "<style scoped>\n",
       "    .dataframe tbody tr th:only-of-type {\n",
       "        vertical-align: middle;\n",
       "    }\n",
       "\n",
       "    .dataframe tbody tr th {\n",
       "        vertical-align: top;\n",
       "    }\n",
       "\n",
       "    .dataframe thead th {\n",
       "        text-align: right;\n",
       "    }\n",
       "</style>\n",
       "<table border=\"1\" class=\"dataframe\">\n",
       "  <thead>\n",
       "    <tr style=\"text-align: right;\">\n",
       "      <th></th>\n",
       "      <th>adjusted_mark_price</th>\n",
       "      <th>ask_price</th>\n",
       "      <th>ask_size</th>\n",
       "      <th>bid_price</th>\n",
       "      <th>bid_size</th>\n",
       "      <th>break_even_price</th>\n",
       "      <th>high_price</th>\n",
       "      <th>instrument</th>\n",
       "      <th>last_trade_price</th>\n",
       "      <th>last_trade_size</th>\n",
       "      <th>...</th>\n",
       "      <th>issue_date</th>\n",
       "      <th>min_ticks</th>\n",
       "      <th>rhs_tradability</th>\n",
       "      <th>state</th>\n",
       "      <th>strike_price</th>\n",
       "      <th>tradability</th>\n",
       "      <th>type</th>\n",
       "      <th>updated_at</th>\n",
       "      <th>url</th>\n",
       "      <th>product</th>\n",
       "    </tr>\n",
       "  </thead>\n",
       "  <tbody>\n",
       "    <tr>\n",
       "      <td>35</td>\n",
       "      <td>27.48</td>\n",
       "      <td>29.15</td>\n",
       "      <td>30</td>\n",
       "      <td>25.8</td>\n",
       "      <td>8</td>\n",
       "      <td>167.48</td>\n",
       "      <td>NaN</td>\n",
       "      <td>https://api.robinhood.com/options/instruments/...</td>\n",
       "      <td>NaN</td>\n",
       "      <td>NaN</td>\n",
       "      <td>...</td>\n",
       "      <td>1987-03-12</td>\n",
       "      <td>{'above_tick': '0.05', 'below_tick': '0.01', '...</td>\n",
       "      <td>untradable</td>\n",
       "      <td>active</td>\n",
       "      <td>140.0</td>\n",
       "      <td>tradable</td>\n",
       "      <td>call</td>\n",
       "      <td>2020-04-02 03:17:25.753835+00:00</td>\n",
       "      <td>https://api.robinhood.com/options/instruments/...</td>\n",
       "      <td>1.146002</td>\n",
       "    </tr>\n",
       "  </tbody>\n",
       "</table>\n",
       "<p>1 rows × 43 columns</p>\n",
       "</div>"
      ],
      "text/plain": [
       "    adjusted_mark_price  ask_price  ask_size  bid_price  bid_size  \\\n",
       "35                27.48      29.15        30       25.8         8   \n",
       "\n",
       "    break_even_price  high_price  \\\n",
       "35            167.48         NaN   \n",
       "\n",
       "                                           instrument  last_trade_price  \\\n",
       "35  https://api.robinhood.com/options/instruments/...               NaN   \n",
       "\n",
       "    last_trade_size  ...  issue_date  \\\n",
       "35              NaN  ...  1987-03-12   \n",
       "\n",
       "                                            min_ticks  rhs_tradability  \\\n",
       "35  {'above_tick': '0.05', 'below_tick': '0.01', '...       untradable   \n",
       "\n",
       "     state  strike_price  tradability  type                       updated_at  \\\n",
       "35  active         140.0     tradable  call 2020-04-02 03:17:25.753835+00:00   \n",
       "\n",
       "                                                  url   product  \n",
       "35  https://api.robinhood.com/options/instruments/...  1.146002  \n",
       "\n",
       "[1 rows x 43 columns]"
      ]
     },
     "execution_count": 8,
     "metadata": {},
     "output_type": "execute_result"
    }
   ],
   "source": [
    "dfcall[(dfcall['chance_of_profit_long'] > chance_profit) & (dfcall['implied_volatility'] < chance_profit_low_iv) & (dfcall['adjusted_mark_price'] == max_profit)]"
   ]
  },
  {
   "cell_type": "code",
   "execution_count": 9,
   "metadata": {},
   "outputs": [
    {
     "data": {
      "text/plain": [
       "<matplotlib.axes._subplots.AxesSubplot at 0x1148192d0>"
      ]
     },
     "execution_count": 9,
     "metadata": {},
     "output_type": "execute_result"
    },
    {
     "data": {
      "image/png": "[encoded data removed]",
      "text/plain": [
       "<Figure size 1080x360 with 1 Axes>"
      ]
     },
     "metadata": {
      "needs_background": "light"
     },
     "output_type": "display_data"
    }
   ],
   "source": [
    "\n",
    "dfcall[(dfcall['chance_of_profit_long'] > chance_profit) & (dfcall['implied_volatility'] < chance_profit_low_iv)].plot.scatter('strike_price', 'chance_of_profit_long', figsize=(15,5), c='green')"
   ]
  },
  {
   "cell_type": "code",
   "execution_count": 10,
   "metadata": {},
   "outputs": [
    {
     "data": {
      "text/plain": [
       "<matplotlib.axes._subplots.AxesSubplot at 0x114832910>"
      ]
     },
     "execution_count": 10,
     "metadata": {},
     "output_type": "execute_result"
    },
    {
     "data": {
      "image/png": "[encoded data removed]",
      "text/plain": [
       "<Figure size 1080x360 with 1 Axes>"
      ]
     },
     "metadata": {
      "needs_background": "light"
     },
     "output_type": "display_data"
    }
   ],
   "source": [
    "dfcall[(dfcall['chance_of_profit_long'] > chance_profit) & (dfcall['implied_volatility'] < chance_profit_low_iv)].plot.scatter('strike_price', 'adjusted_mark_price', figsize=(15,5))"
   ]
  },
  {
   "cell_type": "code",
   "execution_count": 12,
   "metadata": {},
   "outputs": [
    {
     "data": {
      "text/html": [
       "<div>\n",
       "<style scoped>\n",
       "    .dataframe tbody tr th:only-of-type {\n",
       "        vertical-align: middle;\n",
       "    }\n",
       "\n",
       "    .dataframe tbody tr th {\n",
       "        vertical-align: top;\n",
       "    }\n",
       "\n",
       "    .dataframe thead th {\n",
       "        text-align: right;\n",
       "    }\n",
       "</style>\n",
       "<table border=\"1\" class=\"dataframe\">\n",
       "  <thead>\n",
       "    <tr style=\"text-align: right;\">\n",
       "      <th></th>\n",
       "      <th>adjusted_mark_price</th>\n",
       "      <th>strike_price</th>\n",
       "      <th>expiration_date</th>\n",
       "      <th>volume</th>\n",
       "      <th>chance_of_profit_long</th>\n",
       "      <th>implied_volatility</th>\n",
       "    </tr>\n",
       "  </thead>\n",
       "  <tbody>\n",
       "    <tr>\n",
       "      <td>102</td>\n",
       "      <td>24.43</td>\n",
       "      <td>142.0</td>\n",
       "      <td>2020-05-01</td>\n",
       "      <td>0</td>\n",
       "      <td>0.450371</td>\n",
       "      <td>0.528073</td>\n",
       "    </tr>\n",
       "    <tr>\n",
       "      <td>57</td>\n",
       "      <td>26.83</td>\n",
       "      <td>140.0</td>\n",
       "      <td>2020-05-08</td>\n",
       "      <td>1</td>\n",
       "      <td>0.443268</td>\n",
       "      <td>0.536251</td>\n",
       "    </tr>\n",
       "    <tr>\n",
       "      <td>72</td>\n",
       "      <td>24.98</td>\n",
       "      <td>142.0</td>\n",
       "      <td>2020-05-08</td>\n",
       "      <td>0</td>\n",
       "      <td>0.440996</td>\n",
       "      <td>0.518164</td>\n",
       "    </tr>\n",
       "    <tr>\n",
       "      <td>69</td>\n",
       "      <td>25.98</td>\n",
       "      <td>141.0</td>\n",
       "      <td>2020-05-08</td>\n",
       "      <td>0</td>\n",
       "      <td>0.440966</td>\n",
       "      <td>0.534786</td>\n",
       "    </tr>\n",
       "    <tr>\n",
       "      <td>70</td>\n",
       "      <td>24.15</td>\n",
       "      <td>143.0</td>\n",
       "      <td>2020-05-08</td>\n",
       "      <td>0</td>\n",
       "      <td>0.438291</td>\n",
       "      <td>0.517320</td>\n",
       "    </tr>\n",
       "    <tr>\n",
       "      <td>77</td>\n",
       "      <td>23.35</td>\n",
       "      <td>144.0</td>\n",
       "      <td>2020-05-08</td>\n",
       "      <td>0</td>\n",
       "      <td>0.435123</td>\n",
       "      <td>0.518072</td>\n",
       "    </tr>\n",
       "    <tr>\n",
       "      <td>35</td>\n",
       "      <td>27.48</td>\n",
       "      <td>140.0</td>\n",
       "      <td>2020-05-22</td>\n",
       "      <td>0</td>\n",
       "      <td>0.433648</td>\n",
       "      <td>0.494198</td>\n",
       "    </tr>\n",
       "    <tr>\n",
       "      <td>29</td>\n",
       "      <td>26.70</td>\n",
       "      <td>141.0</td>\n",
       "      <td>2020-05-22</td>\n",
       "      <td>0</td>\n",
       "      <td>0.430644</td>\n",
       "      <td>0.495940</td>\n",
       "    </tr>\n",
       "    <tr>\n",
       "      <td>96</td>\n",
       "      <td>21.68</td>\n",
       "      <td>146.0</td>\n",
       "      <td>2020-05-08</td>\n",
       "      <td>6</td>\n",
       "      <td>0.429741</td>\n",
       "      <td>0.510626</td>\n",
       "    </tr>\n",
       "    <tr>\n",
       "      <td>47</td>\n",
       "      <td>25.78</td>\n",
       "      <td>142.0</td>\n",
       "      <td>2020-05-22</td>\n",
       "      <td>0</td>\n",
       "      <td>0.429506</td>\n",
       "      <td>0.486933</td>\n",
       "    </tr>\n",
       "  </tbody>\n",
       "</table>\n",
       "</div>"
      ],
      "text/plain": [
       "     adjusted_mark_price  strike_price expiration_date  volume  \\\n",
       "102                24.43         142.0      2020-05-01       0   \n",
       "57                 26.83         140.0      2020-05-08       1   \n",
       "72                 24.98         142.0      2020-05-08       0   \n",
       "69                 25.98         141.0      2020-05-08       0   \n",
       "70                 24.15         143.0      2020-05-08       0   \n",
       "77                 23.35         144.0      2020-05-08       0   \n",
       "35                 27.48         140.0      2020-05-22       0   \n",
       "29                 26.70         141.0      2020-05-22       0   \n",
       "96                 21.68         146.0      2020-05-08       6   \n",
       "47                 25.78         142.0      2020-05-22       0   \n",
       "\n",
       "     chance_of_profit_long  implied_volatility  \n",
       "102               0.450371            0.528073  \n",
       "57                0.443268            0.536251  \n",
       "72                0.440996            0.518164  \n",
       "69                0.440966            0.534786  \n",
       "70                0.438291            0.517320  \n",
       "77                0.435123            0.518072  \n",
       "35                0.433648            0.494198  \n",
       "29                0.430644            0.495940  \n",
       "96                0.429741            0.510626  \n",
       "47                0.429506            0.486933  "
      ]
     },
     "execution_count": 12,
     "metadata": {},
     "output_type": "execute_result"
    }
   ],
   "source": [
    "dfcall[(dfcall['strike_price'] > 139) & (dfcall['strike_price'] < 149)][['adjusted_mark_price', 'strike_price', 'expiration_date', 'volume', 'chance_of_profit_long', 'implied_volatility']].sort_values('chance_of_profit_long', ascending=False).head(10)"
   ]
  },
  {
   "cell_type": "code",
   "execution_count": null,
   "metadata": {},
   "outputs": [],
   "source": []
  }
 ],
 "metadata": {
  "kernelspec": {
   "display_name": "Python 3",
   "language": "python",
   "name": "python3"
  },
  "language_info": {
   "codemirror_mode": {
    "name": "ipython",
    "version": 3
   },
   "file_extension": ".py",
   "mimetype": "text/x-python",
   "name": "python",
   "nbconvert_exporter": "python",
   "pygments_lexer": "ipython3",
   "version": "3.7.4"
  }
 },
 "nbformat": 4,
 "nbformat_minor": 2
}
