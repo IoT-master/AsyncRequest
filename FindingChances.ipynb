{
 "cells": [
  {
   "cell_type": "code",
   "execution_count": 1,
   "metadata": {},
   "outputs": [
    {
     "data": {
      "text/plain": [
       "<Figure size 432x288 with 0 Axes>"
      ]
     },
     "metadata": {},
     "output_type": "display_data"
    }
   ],
   "source": [
    "import pandas as pd\n",
    "import matplotlib.pyplot as plt\n",
    "%matplotlib inline\n",
    "df = pd.read_json('./AMD.json')\n",
    "plt.style.use('fivethirtyeight')\n",
    "plt.tight_layout()"
   ]
  },
  {
   "cell_type": "code",
   "execution_count": 2,
   "metadata": {},
   "outputs": [
    {
     "name": "stderr",
     "output_type": "stream",
     "text": [
      "/Users/senhmo/opt/anaconda3/lib/python3.7/site-packages/pandas/plotting/_matplotlib/core.py:420: FutureWarning: Converting timezone-aware DatetimeArray to timezone-naive ndarray with 'datetime64[ns]' dtype. In the future, this will return an ndarray with 'object' dtype where each element is a 'pandas.Timestamp' with the correct 'tz'.\n",
      "\tTo accept the future behavior, pass 'dtype=object'.\n",
      "\tTo keep the old behavior, pass 'dtype=\"datetime64[ns]\"'.\n",
      "  numeric_data[col] = np.asarray(numeric_data[col])\n"
     ]
    },
    {
     "data": {
      "text/plain": [
       "<matplotlib.axes._subplots.AxesSubplot at 0x111590690>"
      ]
     },
     "execution_count": 2,
     "metadata": {},
     "output_type": "execute_result"
    },
    {
     "data": {
      "image/png": "[encoded data removed]",
      "text/plain": [
       "<Figure size 1440x360 with 1 Axes>"
      ]
     },
     "metadata": {
      "needs_background": "light"
     },
     "output_type": "display_data"
    }
   ],
   "source": [
    "df.plot.scatter('strike_price', 'implied_volatility', figsize=(20,5))"
   ]
  },
  {
   "cell_type": "code",
   "execution_count": 3,
   "metadata": {},
   "outputs": [
    {
     "data": {
      "text/plain": [
       "<matplotlib.axes._subplots.AxesSubplot at 0x1222e29d0>"
      ]
     },
     "execution_count": 3,
     "metadata": {},
     "output_type": "execute_result"
    },
    {
     "data": {
      "image/png": "[encoded data removed]",
      "text/plain": [
       "<Figure size 1440x360 with 1 Axes>"
      ]
     },
     "metadata": {
      "needs_background": "light"
     },
     "output_type": "display_data"
    }
   ],
   "source": [
    "df.plot.scatter('strike_price', 'chance_of_profit_long', figsize=(20,5))"
   ]
  },
  {
   "cell_type": "code",
   "execution_count": 4,
   "metadata": {},
   "outputs": [],
   "source": [
    "df['product'] = df.apply(lambda row: (row['chance_of_profit_short']/row['implied_volatility']), axis=1)"
   ]
  },
  {
   "cell_type": "code",
   "execution_count": 5,
   "metadata": {},
   "outputs": [],
   "source": [
    "dfcall = df[df['type'] == 'call']\n",
    "chance_profit = dfcall['chance_of_profit_long'].describe()['75%']"
   ]
  },
  {
   "cell_type": "code",
   "execution_count": 6,
   "metadata": {},
   "outputs": [],
   "source": [
    "chance_profit_low_iv = dfcall[dfcall['chance_of_profit_long'] > chance_profit]['implied_volatility'].describe()['25%']"
   ]
  },
  {
   "cell_type": "code",
   "execution_count": 7,
   "metadata": {},
   "outputs": [],
   "source": [
    "max_profit = dfcall[(dfcall['chance_of_profit_long'] > chance_profit) & (dfcall['implied_volatility'] < chance_profit_low_iv)]['adjusted_mark_price'].max()"
   ]
  },
  {
   "cell_type": "code",
   "execution_count": 8,
   "metadata": {},
   "outputs": [
    {
     "data": {
      "text/html": [
       "<div>\n",
       "<style scoped>\n",
       "    .dataframe tbody tr th:only-of-type {\n",
       "        vertical-align: middle;\n",
       "    }\n",
       "\n",
       "    .dataframe tbody tr th {\n",
       "        vertical-align: top;\n",
       "    }\n",
       "\n",
       "    .dataframe thead th {\n",
       "        text-align: right;\n",
       "    }\n",
       "</style>\n",
       "<table border=\"1\" class=\"dataframe\">\n",
       "  <thead>\n",
       "    <tr style=\"text-align: right;\">\n",
       "      <th></th>\n",
       "      <th>adjusted_mark_price</th>\n",
       "      <th>ask_price</th>\n",
       "      <th>ask_size</th>\n",
       "      <th>bid_price</th>\n",
       "      <th>bid_size</th>\n",
       "      <th>break_even_price</th>\n",
       "      <th>high_price</th>\n",
       "      <th>instrument</th>\n",
       "      <th>last_trade_price</th>\n",
       "      <th>last_trade_size</th>\n",
       "      <th>...</th>\n",
       "      <th>issue_date</th>\n",
       "      <th>min_ticks</th>\n",
       "      <th>rhs_tradability</th>\n",
       "      <th>state</th>\n",
       "      <th>strike_price</th>\n",
       "      <th>tradability</th>\n",
       "      <th>type</th>\n",
       "      <th>updated_at</th>\n",
       "      <th>url</th>\n",
       "      <th>product</th>\n",
       "    </tr>\n",
       "  </thead>\n",
       "  <tbody>\n",
       "    <tr>\n",
       "      <td>12</td>\n",
       "      <td>11.33</td>\n",
       "      <td>13.45</td>\n",
       "      <td>72</td>\n",
       "      <td>9.2</td>\n",
       "      <td>62</td>\n",
       "      <td>49.33</td>\n",
       "      <td>NaN</td>\n",
       "      <td>https://api.robinhood.com/options/instruments/...</td>\n",
       "      <td>8.2</td>\n",
       "      <td>2.0</td>\n",
       "      <td>...</td>\n",
       "      <td>1987-01-12</td>\n",
       "      <td>{'above_tick': '0.05', 'below_tick': '0.01', '...</td>\n",
       "      <td>untradable</td>\n",
       "      <td>active</td>\n",
       "      <td>38.0</td>\n",
       "      <td>tradable</td>\n",
       "      <td>call</td>\n",
       "      <td>2020-04-02 01:10:30.279027+00:00</td>\n",
       "      <td>https://api.robinhood.com/options/instruments/...</td>\n",
       "      <td>0.759334</td>\n",
       "    </tr>\n",
       "  </tbody>\n",
       "</table>\n",
       "<p>1 rows × 43 columns</p>\n",
       "</div>"
      ],
      "text/plain": [
       "    adjusted_mark_price  ask_price  ask_size  bid_price  bid_size  \\\n",
       "12                11.33      13.45        72        9.2        62   \n",
       "\n",
       "    break_even_price  high_price  \\\n",
       "12             49.33         NaN   \n",
       "\n",
       "                                           instrument  last_trade_price  \\\n",
       "12  https://api.robinhood.com/options/instruments/...               8.2   \n",
       "\n",
       "    last_trade_size  ...  issue_date  \\\n",
       "12              2.0  ...  1987-01-12   \n",
       "\n",
       "                                            min_ticks  rhs_tradability  \\\n",
       "12  {'above_tick': '0.05', 'below_tick': '0.01', '...       untradable   \n",
       "\n",
       "     state  strike_price  tradability  type                       updated_at  \\\n",
       "12  active          38.0     tradable  call 2020-04-02 01:10:30.279027+00:00   \n",
       "\n",
       "                                                  url   product  \n",
       "12  https://api.robinhood.com/options/instruments/...  0.759334  \n",
       "\n",
       "[1 rows x 43 columns]"
      ]
     },
     "execution_count": 8,
     "metadata": {},
     "output_type": "execute_result"
    }
   ],
   "source": [
    "dfcall[(dfcall['chance_of_profit_long'] > chance_profit) & (dfcall['implied_volatility'] < chance_profit_low_iv) & (dfcall['adjusted_mark_price'] == max_profit)]"
   ]
  },
  {
   "cell_type": "code",
   "execution_count": 9,
   "metadata": {},
   "outputs": [
    {
     "data": {
      "text/plain": [
       "<matplotlib.axes._subplots.AxesSubplot at 0x1222fc950>"
      ]
     },
     "execution_count": 9,
     "metadata": {},
     "output_type": "execute_result"
    },
    {
     "data": {
      "image/png": "[encoded data removed]",
      "text/plain": [
       "<Figure size 1080x360 with 1 Axes>"
      ]
     },
     "metadata": {
      "needs_background": "light"
     },
     "output_type": "display_data"
    }
   ],
   "source": [
    "\n",
    "dfcall[(dfcall['chance_of_profit_long'] > chance_profit) & (dfcall['implied_volatility'] < chance_profit_low_iv)].plot.scatter('strike_price', 'chance_of_profit_long', figsize=(15,5), c='green')"
   ]
  },
  {
   "cell_type": "code",
   "execution_count": 10,
   "metadata": {},
   "outputs": [
    {
     "data": {
      "text/plain": [
       "<matplotlib.axes._subplots.AxesSubplot at 0x122313110>"
      ]
     },
     "execution_count": 10,
     "metadata": {},
     "output_type": "execute_result"
    },
    {
     "data": {
      "image/png": "[encoded data removed]",
      "text/plain": [
       "<Figure size 1080x360 with 1 Axes>"
      ]
     },
     "metadata": {
      "needs_background": "light"
     },
     "output_type": "display_data"
    }
   ],
   "source": [
    "dfcall[(dfcall['chance_of_profit_long'] > chance_profit) & (dfcall['implied_volatility'] < chance_profit_low_iv)].plot.scatter('strike_price', 'adjusted_mark_price', figsize=(15,5))"
   ]
  },
  {
   "cell_type": "code",
   "execution_count": 11,
   "metadata": {},
   "outputs": [
    {
     "data": {
      "text/html": [
       "<div>\n",
       "<style scoped>\n",
       "    .dataframe tbody tr th:only-of-type {\n",
       "        vertical-align: middle;\n",
       "    }\n",
       "\n",
       "    .dataframe tbody tr th {\n",
       "        vertical-align: top;\n",
       "    }\n",
       "\n",
       "    .dataframe thead th {\n",
       "        text-align: right;\n",
       "    }\n",
       "</style>\n",
       "<table border=\"1\" class=\"dataframe\">\n",
       "  <thead>\n",
       "    <tr style=\"text-align: right;\">\n",
       "      <th></th>\n",
       "      <th>adjusted_mark_price</th>\n",
       "      <th>strike_price</th>\n",
       "      <th>expiration_date</th>\n",
       "      <th>volume</th>\n",
       "      <th>chance_of_profit_long</th>\n",
       "      <th>implied_volatility</th>\n",
       "    </tr>\n",
       "  </thead>\n",
       "  <tbody>\n",
       "    <tr>\n",
       "      <td>97</td>\n",
       "      <td>8.33</td>\n",
       "      <td>41.0</td>\n",
       "      <td>2020-05-08</td>\n",
       "      <td>0</td>\n",
       "      <td>0.441052</td>\n",
       "      <td>0.569717</td>\n",
       "    </tr>\n",
       "    <tr>\n",
       "      <td>12</td>\n",
       "      <td>11.33</td>\n",
       "      <td>38.0</td>\n",
       "      <td>2020-05-08</td>\n",
       "      <td>0</td>\n",
       "      <td>0.437449</td>\n",
       "      <td>0.740848</td>\n",
       "    </tr>\n",
       "    <tr>\n",
       "      <td>21</td>\n",
       "      <td>10.65</td>\n",
       "      <td>39.0</td>\n",
       "      <td>2020-05-08</td>\n",
       "      <td>5</td>\n",
       "      <td>0.424601</td>\n",
       "      <td>0.796159</td>\n",
       "    </tr>\n",
       "    <tr>\n",
       "      <td>41</td>\n",
       "      <td>10.93</td>\n",
       "      <td>39.0</td>\n",
       "      <td>2020-05-22</td>\n",
       "      <td>0</td>\n",
       "      <td>0.414068</td>\n",
       "      <td>0.729026</td>\n",
       "    </tr>\n",
       "    <tr>\n",
       "      <td>43</td>\n",
       "      <td>11.93</td>\n",
       "      <td>38.0</td>\n",
       "      <td>2020-05-22</td>\n",
       "      <td>0</td>\n",
       "      <td>0.412805</td>\n",
       "      <td>0.784707</td>\n",
       "    </tr>\n",
       "    <tr>\n",
       "      <td>77</td>\n",
       "      <td>10.08</td>\n",
       "      <td>40.0</td>\n",
       "      <td>2020-05-08</td>\n",
       "      <td>0</td>\n",
       "      <td>0.409591</td>\n",
       "      <td>0.858861</td>\n",
       "    </tr>\n",
       "    <tr>\n",
       "      <td>27</td>\n",
       "      <td>10.23</td>\n",
       "      <td>40.0</td>\n",
       "      <td>2020-05-22</td>\n",
       "      <td>0</td>\n",
       "      <td>0.404767</td>\n",
       "      <td>0.742528</td>\n",
       "    </tr>\n",
       "    <tr>\n",
       "      <td>26</td>\n",
       "      <td>9.35</td>\n",
       "      <td>41.0</td>\n",
       "      <td>2020-05-22</td>\n",
       "      <td>2</td>\n",
       "      <td>0.401218</td>\n",
       "      <td>0.710228</td>\n",
       "    </tr>\n",
       "  </tbody>\n",
       "</table>\n",
       "</div>"
      ],
      "text/plain": [
       "    adjusted_mark_price  strike_price expiration_date  volume  \\\n",
       "97                 8.33          41.0      2020-05-08       0   \n",
       "12                11.33          38.0      2020-05-08       0   \n",
       "21                10.65          39.0      2020-05-08       5   \n",
       "41                10.93          39.0      2020-05-22       0   \n",
       "43                11.93          38.0      2020-05-22       0   \n",
       "77                10.08          40.0      2020-05-08       0   \n",
       "27                10.23          40.0      2020-05-22       0   \n",
       "26                 9.35          41.0      2020-05-22       2   \n",
       "\n",
       "    chance_of_profit_long  implied_volatility  \n",
       "97               0.441052            0.569717  \n",
       "12               0.437449            0.740848  \n",
       "21               0.424601            0.796159  \n",
       "41               0.414068            0.729026  \n",
       "43               0.412805            0.784707  \n",
       "77               0.409591            0.858861  \n",
       "27               0.404767            0.742528  \n",
       "26               0.401218            0.710228  "
      ]
     },
     "execution_count": 11,
     "metadata": {},
     "output_type": "execute_result"
    }
   ],
   "source": [
    "dfcall[(dfcall['strike_price'] > 37) & (dfcall['strike_price'] < 42)][['adjusted_mark_price', 'strike_price', 'expiration_date', 'volume', 'chance_of_profit_long', 'implied_volatility']].sort_values('chance_of_profit_long', ascending=False).head(10)"
   ]
  },
  {
   "cell_type": "code",
   "execution_count": null,
   "metadata": {},
   "outputs": [],
   "source": []
  }
 ],
 "metadata": {
  "kernelspec": {
   "display_name": "Python 3",
   "language": "python",
   "name": "python3"
  },
  "language_info": {
   "codemirror_mode": {
    "name": "ipython",
    "version": 3
   },
   "file_extension": ".py",
   "mimetype": "text/x-python",
   "name": "python",
   "nbconvert_exporter": "python",
   "pygments_lexer": "ipython3",
   "version": "3.7.4"
  }
 },
 "nbformat": 4,
 "nbformat_minor": 2
}
